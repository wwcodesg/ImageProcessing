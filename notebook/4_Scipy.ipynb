{
 "cells": [
  {
   "cell_type": "markdown",
   "metadata": {
    "collapsed": true
   },
   "source": [
    "# SciPy\n",
    "Package for mathematics that builds on NumPy.\n",
    "## Blurring\n",
    "### Gaussian blurring"
   ]
  },
  {
   "cell_type": "code",
   "execution_count": null,
   "metadata": {
    "collapsed": true
   },
   "outputs": [],
   "source": [
    "from PIL import Image\n",
    "from numpy import *\n",
    "from scipy.ndimage import filters"
   ]
  },
  {
   "cell_type": "code",
   "execution_count": null,
   "metadata": {
    "collapsed": true
   },
   "outputs": [],
   "source": [
    "im = array(Image.open('../image/SingaporeSkyline.jpg').convert('L'))\n",
    "im2 =  filters.gaussian_filter(im,5) # params: (image, standard deviation)"
   ]
  },
  {
   "cell_type": "code",
   "execution_count": null,
   "metadata": {},
   "outputs": [],
   "source": [
    "Image.fromarray(im2)"
   ]
  },
  {
   "cell_type": "code",
   "execution_count": null,
   "metadata": {
    "collapsed": true
   },
   "outputs": [],
   "source": [
    "# Apply Gussian blurring to each colour channel:\n",
    "im = array(Image.open('../image/SingaporeSkyline.jpg'))\n",
    "im2 = zeros(im.shape)\n",
    "for i in range(3):\n",
    "    im2[:,:,i] = filters.gaussian_filter(im[:,:,i],5)\n",
    "im2 = uint8(im2) # or \"im2 = array(im2, 'uint8')\" to force pixel values to 8-bit representations"
   ]
  },
  {
   "cell_type": "code",
   "execution_count": null,
   "metadata": {},
   "outputs": [],
   "source": [
    "Image.fromarray(im2)"
   ]
  },
  {
   "cell_type": "markdown",
   "metadata": {},
   "source": [
    "### Image Derivatives\n",
    "How image intensity changes over the image is important information.  \n",
    "Image gradient has two important properties:  \n",
    " * gradient magnitude\n",
    " * gradient angle"
   ]
  },
  {
   "cell_type": "code",
   "execution_count": null,
   "metadata": {
    "collapsed": true
   },
   "outputs": [],
   "source": [
    "# x, y derivativeas and gradient magnitude using Sobel filter\n",
    "im = array(Image.open('../image/SingaporeSkyline.jpg').convert('L'))\n",
    "# Sobel derivative filters\n",
    "imx = zeros(im.shape)\n",
    "filters.sobel(im, 1, imx)\n",
    "\n",
    "imy = zeros(im.shape)\n",
    "filters.sobel(im, 0, imy)\n",
    "\n",
    "magnitude = sqrt(imx**2 + imy**2)"
   ]
  },
  {
   "cell_type": "code",
   "execution_count": null,
   "metadata": {},
   "outputs": [],
   "source": [
    "Image.fromarray(uint8(im-magnitude))"
   ]
  },
  {
   "cell_type": "code",
   "execution_count": null,
   "metadata": {},
   "outputs": [],
   "source": [
    "# Gaussian derivatives\n",
    "sigma = 5 # standard deviation\n",
    "\n",
    "imx = zeros(im.shape)\n",
    "filters.gaussian_filter(im, (sigma,sigma), (0,1), imx)\n",
    "\n",
    "imy = zeros(im.shape)\n",
    "filters.gaussian_filter(im, (sigma,sigma), (1,0), imy)"
   ]
  },
  {
   "cell_type": "markdown",
   "metadata": {},
   "source": [
    "## Morphology - Counting Objects"
   ]
  },
  {
   "cell_type": "code",
   "execution_count": null,
   "metadata": {
    "collapsed": true
   },
   "outputs": [],
   "source": [
    "from scipy.ndimage import measurements, morphology"
   ]
  },
  {
   "cell_type": "code",
   "execution_count": null,
   "metadata": {},
   "outputs": [],
   "source": [
    "# load image and threshold to make sure it is binary\n",
    "im = array(Image.open('../image/women_who_code.jpg').convert('L'))\n",
    "im = 1*(im<150)\n",
    "\n",
    "labels, nbr_objects = measurements.label(im)\n",
    "print(\"Number of objects:\", nbr_objects)"
   ]
  },
  {
   "cell_type": "code",
   "execution_count": null,
   "metadata": {},
   "outputs": [],
   "source": [
    "Image.open('../image/women_who_code.jpg').convert('L')"
   ]
  },
  {
   "cell_type": "markdown",
   "metadata": {},
   "source": [
    "# Change the threshold to count the individual '1's and '0's :"
   ]
  },
  {
   "cell_type": "code",
   "execution_count": null,
   "metadata": {
    "collapsed": true
   },
   "outputs": [],
   "source": []
  }
 ],
 "metadata": {
  "kernelspec": {
   "display_name": "Python 3",
   "language": "python",
   "name": "python3"
  },
  "language_info": {
   "codemirror_mode": {
    "name": "ipython",
    "version": 3
   },
   "file_extension": ".py",
   "mimetype": "text/x-python",
   "name": "python",
   "nbconvert_exporter": "python",
   "pygments_lexer": "ipython3",
   "version": "3.6.3"
  }
 },
 "nbformat": 4,
 "nbformat_minor": 2
}
